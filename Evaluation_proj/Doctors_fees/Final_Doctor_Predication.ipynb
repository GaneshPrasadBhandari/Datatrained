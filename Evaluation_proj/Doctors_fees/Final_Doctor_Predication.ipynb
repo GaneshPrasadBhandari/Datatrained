{
 "cells": [
  {
   "cell_type": "code",
   "execution_count": 59,
   "metadata": {},
   "outputs": [],
   "source": [
    "# -*- coding: utf-8 -*-\n",
    "import warnings\n",
    "warnings.filterwarnings(\"ignore\")\n",
    "import pandas as pd\n",
    "import numpy as np\n",
    "import matplotlib.pyplot as plt\n",
    "import seaborn as sns\n",
    "import re\n",
    "from matplotlib import pyplot\n",
    "#from xgboost import XGBRegressor\n",
    "from sklearn.feature_extraction.text import TfidfVectorizer\n",
    "from sklearn.decomposition import TruncatedSVD\n",
    "from sklearn.preprocessing import StandardScaler\n",
    "from sklearn.model_selection import train_test_split\n",
    "from sklearn.model_selection import KFold\n",
    "from sklearn.model_selection import cross_val_score\n",
    "from sklearn.model_selection import GridSearchCV\n",
    "from sklearn.linear_model import LinearRegression\n",
    "from sklearn.linear_model import Lasso\n",
    "from sklearn.linear_model import ElasticNet\n",
    "from sklearn.tree import DecisionTreeRegressor\n",
    "from sklearn.neighbors import KNeighborsRegressor\n",
    "from sklearn.svm import SVR\n",
    "from sklearn.pipeline import Pipeline\n",
    "from sklearn.ensemble import RandomForestRegressor\n",
    "from sklearn.ensemble import GradientBoostingRegressor\n",
    "from sklearn.ensemble import ExtraTreesRegressor\n",
    "from sklearn.ensemble import AdaBoostRegressor\n",
    "from sklearn.metrics import mean_squared_error"
   ]
  },
  {
   "cell_type": "code",
   "execution_count": 60,
   "metadata": {},
   "outputs": [],
   "source": [
    "train_df = pd.read_excel('Final_Train.xlsx')\n",
    "test_df = pd.read_excel('Final_Test.xlsx')\n"
   ]
  },
  {
   "cell_type": "code",
   "execution_count": 61,
   "metadata": {},
   "outputs": [
    {
     "name": "stdout",
     "output_type": "stream",
     "text": [
      "Lookup on train data                     Qualification           Experience Rating  \\\n",
      "0           BHMS, MD - Homeopathy  24 years experience      1   \n",
      "1    BAMS, MD - Ayurveda Medicine  12 years experience    98%   \n",
      "2  MBBS, MS - Otorhinolaryngology   9 years experience    NaN   \n",
      "3             BSc - Zoology, BAMS  12 years experience    NaN   \n",
      "4                            BAMS  20 years experience   100%   \n",
      "\n",
      "                          Place         Profile  \\\n",
      "0           Kakkanad, Ernakulam       Homeopath   \n",
      "1         Whitefield, Bangalore        Ayurveda   \n",
      "2    Mathikere - BEL, Bangalore  ENT Specialist   \n",
      "3  Bannerghatta Road, Bangalore        Ayurveda   \n",
      "4         Keelkattalai, Chennai        Ayurveda   \n",
      "\n",
      "                                  Miscellaneous_Info  Fees  \n",
      "0               100% 16 Feedback Kakkanad, Ernakulam   100  \n",
      "1              98% 76 Feedback Whitefield, Bangalore   350  \n",
      "2                                                NaN   300  \n",
      "3  Bannerghatta Road, Bangalore ₹250 Available on...   250  \n",
      "4              100% 4 Feedback Keelkattalai, Chennai   250  \n",
      "Shape of train data (5961, 7)\n",
      "Null value in train data set Qualification            0\n",
      "Experience               0\n",
      "Rating                3302\n",
      "Place                   25\n",
      "Profile                  0\n",
      "Miscellaneous_Info    2620\n",
      "Fees                     0\n",
      "dtype: int64\n",
      "Lookup into test data                                      Qualification           Experience  \\\n",
      "0                                             MBBS  35 years experience   \n",
      "1       MBBS, Diploma in Otorhinolaryngology (DLO)  31 years experience   \n",
      "2                                       MBBS, DDVL  40 years experience   \n",
      "3                                             BAMS   0 years experience   \n",
      "4  BDS, MDS - Conservative Dentistry & Endodontics  16 years experience   \n",
      "\n",
      "  Rating                        Place           Profile  \\\n",
      "0    NaN       Ghatkopar East, Mumbai  General Medicine   \n",
      "1    NaN  West Marredpally, Hyderabad    ENT Specialist   \n",
      "2    70%            KK Nagar, Chennai    Dermatologists   \n",
      "3    NaN       New Ashok Nagar, Delhi          Ayurveda   \n",
      "4   100%    Kanakpura Road, Bangalore           Dentist   \n",
      "\n",
      "                                  Miscellaneous_Info  \n",
      "0                                                NaN  \n",
      "1                                                NaN  \n",
      "2                   70% 4 Feedback KK Nagar, Chennai  \n",
      "3                                                NaN  \n",
      "4  General Dentistry Conservative Dentistry Cosme...  \n",
      "Sum of Null value in test  Qualification            0\n",
      "Experience               0\n",
      "Rating                1090\n",
      "Place                    6\n",
      "Profile                  0\n",
      "Miscellaneous_Info     834\n",
      "dtype: int64\n"
     ]
    }
   ],
   "source": [
    "print(\"Lookup on train data\",train_df.head())\n",
    "print(\"Shape of train data\",train_df.shape)\n",
    "print(\"Null value in train data set\", train_df.isnull().sum())\n",
    "print(\"Lookup into test data\",test_df.head())\n",
    "print(\"Sum of Null value in test \",test_df.isnull().sum())"
   ]
  },
  {
   "cell_type": "markdown",
   "metadata": {},
   "source": [
    "Extract String from exp"
   ]
  },
  {
   "cell_type": "code",
   "execution_count": 62,
   "metadata": {},
   "outputs": [],
   "source": [
    "train_df['Experience'] = train_df['Experience'].str[0:-17].astype(int)\n",
    "test_df['Experience'] = test_df['Experience'].str[0:-17].astype(int)"
   ]
  },
  {
   "cell_type": "markdown",
   "metadata": {},
   "source": [
    "xtarct Rating string"
   ]
  },
  {
   "cell_type": "code",
   "execution_count": 63,
   "metadata": {},
   "outputs": [],
   "source": [
    "train_df['Rating'] = train_df['Rating'].str[0:-1].astype(float)\n",
    "test_df['Rating'] = test_df['Rating'].str[0:-1].astype(float)"
   ]
  },
  {
   "cell_type": "markdown",
   "metadata": {},
   "source": [
    "ill the null value in place"
   ]
  },
  {
   "cell_type": "code",
   "execution_count": 64,
   "metadata": {},
   "outputs": [],
   "source": [
    "train_df['Place'].fillna('none, none', inplace=True)\n",
    "test_df['Place'].fillna('none, none', inplace=True)"
   ]
  },
  {
   "cell_type": "markdown",
   "metadata": {},
   "source": [
    "Extract the Area and City from place"
   ]
  },
  {
   "cell_type": "code",
   "execution_count": 65,
   "metadata": {},
   "outputs": [],
   "source": [
    "train_df['Area'] = train_df['Place'].str.rsplit(',', 1).str.get(0)\n",
    "train_df['City'] = train_df['Place'].str.rsplit(',', 1).str.get(1)\n",
    "test_df['Area'] = test_df['Place'].str.rsplit(',', 1).str.get(0)\n",
    "test_df['City'] = test_df['Place'].str.split(',', 1).str.get(1)"
   ]
  },
  {
   "cell_type": "code",
   "execution_count": 66,
   "metadata": {},
   "outputs": [],
   "source": [
    "train_df['City'] = train_df['City'].str.strip()\n",
    "test_df['City'] = test_df['City'].str.strip()"
   ]
  },
  {
   "cell_type": "code",
   "execution_count": 67,
   "metadata": {},
   "outputs": [
    {
     "name": "stdout",
     "output_type": "stream",
     "text": [
      "Lookup data after extraction                     Qualification  Experience  Rating  \\\n",
      "0           BHMS, MD - Homeopathy          24     NaN   \n",
      "1    BAMS, MD - Ayurveda Medicine          12    98.0   \n",
      "2  MBBS, MS - Otorhinolaryngology           9     NaN   \n",
      "3             BSc - Zoology, BAMS          12     NaN   \n",
      "4                            BAMS          20   100.0   \n",
      "\n",
      "                          Place         Profile  \\\n",
      "0           Kakkanad, Ernakulam       Homeopath   \n",
      "1         Whitefield, Bangalore        Ayurveda   \n",
      "2    Mathikere - BEL, Bangalore  ENT Specialist   \n",
      "3  Bannerghatta Road, Bangalore        Ayurveda   \n",
      "4         Keelkattalai, Chennai        Ayurveda   \n",
      "\n",
      "                                  Miscellaneous_Info  Fees               Area  \\\n",
      "0               100% 16 Feedback Kakkanad, Ernakulam   100           Kakkanad   \n",
      "1              98% 76 Feedback Whitefield, Bangalore   350         Whitefield   \n",
      "2                                                NaN   300    Mathikere - BEL   \n",
      "3  Bannerghatta Road, Bangalore ₹250 Available on...   250  Bannerghatta Road   \n",
      "4              100% 4 Feedback Keelkattalai, Chennai   250       Keelkattalai   \n",
      "\n",
      "        City  \n",
      "0  Ernakulam  \n",
      "1  Bangalore  \n",
      "2  Bangalore  \n",
      "3  Bangalore  \n",
      "4    Chennai  \n",
      "Unique value for city After Extraction ['Ernakulam' 'Bangalore' 'Chennai' 'Delhi' 'Hyderabad' 'Coimbatore'\n",
      " 'Mumbai' 'Thiruvananthapuram' 'none' nan]\n",
      "Unique value for city After Extraction ['Mumbai' 'Hyderabad' 'Chennai' 'Delhi' 'Bangalore' 'Coimbatore'\n",
      " 'Thiruvananthapuram' 'Ernakulam' 'none']\n"
     ]
    }
   ],
   "source": [
    "print(\"Lookup data after extraction\",train_df.head())\n",
    "print(\"Unique value for city After Extraction\",train_df['City'].unique())\n",
    "print(\"Unique value for city After Extraction\",test_df['City'].unique())"
   ]
  },
  {
   "cell_type": "code",
   "execution_count": 68,
   "metadata": {},
   "outputs": [
    {
     "name": "stdout",
     "output_type": "stream",
     "text": [
      "Null vaule      Qualification  Experience  Rating Place  Profile Miscellaneous_Info  \\\n",
      "3980           BDS          23     NaN     e  Dentist                NaN   \n",
      "\n",
      "      Fees Area City  \n",
      "3980   250    e  NaN  \n"
     ]
    }
   ],
   "source": [
    "print(\"Null vaule\",train_df[train_df['City'].isnull()])\n",
    "train_df.loc[train_df['City'].isnull(), 'Area'] = 'none'\n",
    "train_df['City'] = train_df['City'].fillna('none')"
   ]
  },
  {
   "cell_type": "code",
   "execution_count": 69,
   "metadata": {},
   "outputs": [
    {
     "data": {
      "text/plain": [
       "867"
      ]
     },
     "execution_count": 69,
     "metadata": {},
     "output_type": "execute_result"
    }
   ],
   "source": [
    "train_df['City'].unique()\n",
    "train_df['Area'].nunique()"
   ]
  },
  {
   "cell_type": "code",
   "execution_count": 70,
   "metadata": {},
   "outputs": [
    {
     "data": {
      "text/plain": [
       "array(['General Medicine', 'ENT Specialist', 'Dermatologists', 'Ayurveda',\n",
       "       'Dentist', 'Homeopath'], dtype=object)"
      ]
     },
     "execution_count": 70,
     "metadata": {},
     "output_type": "execute_result"
    }
   ],
   "source": [
    "train_df['Profile'].unique()\n",
    "test_df['Profile'].unique()"
   ]
  },
  {
   "cell_type": "markdown",
   "metadata": {},
   "source": [
    "bitwise operator to check Misc info present or not 1 or 0"
   ]
  },
  {
   "cell_type": "code",
   "execution_count": 71,
   "metadata": {},
   "outputs": [],
   "source": [
    "train_df['Has_M_Info'] = (~train_df['Miscellaneous_Info'].isnull())\n",
    "test_df['Has_M_Info'] = (~test_df['Miscellaneous_Info'].isnull())\n",
    "train_df['Has_M_Info'] = train_df['Has_M_Info'].astype(int)\n",
    "test_df['Has_M_Info'] = test_df['Has_M_Info'].astype(int)"
   ]
  },
  {
   "cell_type": "code",
   "execution_count": 72,
   "metadata": {},
   "outputs": [
    {
     "name": "stdout",
     "output_type": "stream",
     "text": [
      "Look up after Misc info                     Qualification  Experience  Rating  \\\n",
      "0           BHMS, MD - Homeopathy          24     NaN   \n",
      "1    BAMS, MD - Ayurveda Medicine          12    98.0   \n",
      "2  MBBS, MS - Otorhinolaryngology           9     NaN   \n",
      "3             BSc - Zoology, BAMS          12     NaN   \n",
      "4                            BAMS          20   100.0   \n",
      "\n",
      "                          Place         Profile  \\\n",
      "0           Kakkanad, Ernakulam       Homeopath   \n",
      "1         Whitefield, Bangalore        Ayurveda   \n",
      "2    Mathikere - BEL, Bangalore  ENT Specialist   \n",
      "3  Bannerghatta Road, Bangalore        Ayurveda   \n",
      "4         Keelkattalai, Chennai        Ayurveda   \n",
      "\n",
      "                                  Miscellaneous_Info  Fees               Area  \\\n",
      "0               100% 16 Feedback Kakkanad, Ernakulam   100           Kakkanad   \n",
      "1              98% 76 Feedback Whitefield, Bangalore   350         Whitefield   \n",
      "2                                                NaN   300    Mathikere - BEL   \n",
      "3  Bannerghatta Road, Bangalore ₹250 Available on...   250  Bannerghatta Road   \n",
      "4              100% 4 Feedback Keelkattalai, Chennai   250       Keelkattalai   \n",
      "\n",
      "        City  Has_M_Info  \n",
      "0  Ernakulam           1  \n",
      "1  Bangalore           1  \n",
      "2  Bangalore           0  \n",
      "3  Bangalore           1  \n",
      "4    Chennai           1  \n"
     ]
    }
   ],
   "source": [
    "print(\"Look up after Misc info\",train_df.head())"
   ]
  },
  {
   "cell_type": "code",
   "execution_count": 73,
   "metadata": {},
   "outputs": [
    {
     "name": "stdout",
     "output_type": "stream",
     "text": [
      "Qualification is                0                         1     2     3     4     5     6  \\\n",
      "0           BHMS           MD - Homeopathy  None  None  None  None  None   \n",
      "1           BAMS    MD - Ayurveda Medicine  None  None  None  None  None   \n",
      "2           MBBS  MS - Otorhinolaryngology  None  None  None  None  None   \n",
      "3  BSc - Zoology                      BAMS  None  None  None  None  None   \n",
      "4           BAMS                      None  None  None  None  None  None   \n",
      "\n",
      "      7     8     9  \n",
      "0  None  None  None  \n",
      "1  None  None  None  \n",
      "2  None  None  None  \n",
      "3  None  None  None  \n",
      "4  None  None  None  \n"
     ]
    }
   ],
   "source": [
    "quals = pd.DataFrame(item for item in train_df['Qualification'].str.split(', '))\n",
    "print(\"Qualification is\",quals.head())"
   ]
  },
  {
   "cell_type": "code",
   "execution_count": 74,
   "metadata": {},
   "outputs": [
    {
     "name": "stdout",
     "output_type": "stream",
     "text": [
      "Null for Qualification 0       0\n",
      "1    1962\n",
      "2    4598\n",
      "3    5592\n",
      "4    5842\n",
      "5    5926\n",
      "6    5949\n",
      "7    5956\n",
      "8    5958\n",
      "9    5960\n",
      "dtype: int64\n"
     ]
    }
   ],
   "source": [
    "print(\"Null for Qualification\",quals.isnull().sum())"
   ]
  },
  {
   "cell_type": "code",
   "execution_count": 75,
   "metadata": {},
   "outputs": [
    {
     "name": "stdout",
     "output_type": "stream",
     "text": [
      "151\n",
      "425\n",
      "405\n",
      "209\n",
      "95\n",
      "32\n",
      "12\n",
      "5\n",
      "3\n",
      "1\n"
     ]
    }
   ],
   "source": [
    "for i in range(10):\n",
    "    print(quals[i].nunique())"
   ]
  },
  {
   "cell_type": "code",
   "execution_count": 76,
   "metadata": {},
   "outputs": [
    {
     "name": "stdout",
     "output_type": "stream",
     "text": [
      "value count for Qualifivation MBBS                                                      2448\n",
      "BDS                                                       1208\n",
      "BAMS                                                       711\n",
      "BHMS                                                       706\n",
      "MD - Dermatology                                            84\n",
      "                                                          ... \n",
      "Advanced Certificate Course in Aesthetic Dentistry           1\n",
      "MD - Ayurvedic Obstetrics and Gynecology                     1\n",
      "Member of the Royal College of Physicians                    1\n",
      "Post Graduate Diploma in Periodontics and Implantology       1\n",
      "M. D. Hom. (Practice of Medicine)                            1\n",
      "Name: 0, Length: 151, dtype: int64\n"
     ]
    }
   ],
   "source": [
    "print(\"value count for Qualifivation\", quals[0].value_counts())"
   ]
  },
  {
   "cell_type": "code",
   "execution_count": 77,
   "metadata": {},
   "outputs": [
    {
     "data": {
      "text/plain": [
       "TfidfVectorizer(analyzer='word', binary=False, decode_error='strict',\n",
       "                dtype=<class 'numpy.float64'>, encoding='utf-8',\n",
       "                input='content', lowercase=True, max_df=1.0, max_features=None,\n",
       "                min_df=1, ngram_range=(1, 1), norm='l2', preprocessor=None,\n",
       "                smooth_idf=True, stop_words=None, strip_accents=None,\n",
       "                sublinear_tf=False, token_pattern='(?u)\\\\b\\\\w\\\\w+\\\\b',\n",
       "                tokenizer=None, use_idf=True, vocabulary=None)"
      ]
     },
     "execution_count": 77,
     "metadata": {},
     "output_type": "execute_result"
    }
   ],
   "source": [
    "vecz = TfidfVectorizer(analyzer='word')\n",
    "vecz.fit(train_df['Qualification'])"
   ]
  },
  {
   "cell_type": "code",
   "execution_count": 78,
   "metadata": {},
   "outputs": [],
   "source": [
    "qual_train = vecz.transform(train_df['Qualification'])\n",
    "qual_test = vecz.transform(test_df['Qualification'])"
   ]
  },
  {
   "cell_type": "markdown",
   "metadata": {},
   "source": [
    "ingular Value Decomposition (SVD) is a matrix factorization technique that<br>\n",
    "factors a matrix M into the three matrices U, Î£, and V. This is very similar to PCA,<br>\n",
    "excepting that the factorization for SVD is done on the data matrix, whereas for PCA,<br>\n",
    "the factorization is done on the covariance matrix. Typically, SVD is used under the hood to<br>\n",
    "find the principle components of a matrix."
   ]
  },
  {
   "cell_type": "code",
   "execution_count": 79,
   "metadata": {},
   "outputs": [
    {
     "data": {
      "text/plain": [
       "TruncatedSVD(algorithm='randomized', n_components=20, n_iter=5,\n",
       "             random_state=None, tol=0.0)"
      ]
     },
     "execution_count": 79,
     "metadata": {},
     "output_type": "execute_result"
    }
   ],
   "source": [
    "svd = TruncatedSVD(n_components=20)\n",
    "svd.fit(qual_train)"
   ]
  },
  {
   "cell_type": "code",
   "execution_count": 80,
   "metadata": {},
   "outputs": [
    {
     "name": "stdout",
     "output_type": "stream",
     "text": [
      "Variance sum  0.7305483039280689\n",
      "Variance ratio [0.0651461  0.0932571  0.08841786 0.09215534 0.06995137 0.04716524\n",
      " 0.04335796 0.03863571 0.02726824 0.02072666 0.01942383 0.01691491\n",
      " 0.0164064  0.0155555  0.01513258 0.01454692 0.01366455 0.01325753\n",
      " 0.0100761  0.00948841]\n"
     ]
    }
   ],
   "source": [
    "print(\"Variance sum \",svd.explained_variance_ratio_.sum())\n",
    "print(\"Variance ratio\",svd.explained_variance_ratio_)"
   ]
  },
  {
   "cell_type": "code",
   "execution_count": 81,
   "metadata": {},
   "outputs": [],
   "source": [
    "qual_train = svd.transform(qual_train)\n",
    "qual_train = pd.DataFrame(qual_train, columns=['svd_{}'.format(i) for i in range(20)])\n",
    "train_df = pd.concat((train_df, qual_train), axis=1)"
   ]
  },
  {
   "cell_type": "code",
   "execution_count": 82,
   "metadata": {},
   "outputs": [],
   "source": [
    "qual_test = svd.transform(qual_test)\n",
    "qual_test = pd.DataFrame(qual_test, columns=['svd_{}'.format(i) for i in range(20)])\n",
    "test_df = pd.concat((test_df, qual_test), axis=1)"
   ]
  },
  {
   "cell_type": "code",
   "execution_count": 83,
   "metadata": {},
   "outputs": [],
   "source": [
    "train_df.to_csv(\"train.csv\")\n",
    "test_df.to_csv(\"test.csv\")\n",
    "Y=train_df[\"Fees\"].values\n",
    "X=train_df.drop(['Fees'],axis=1)\n",
    "array = X.values\n",
    "X = array[:,8:30]\n",
    "#Y = array[:,6]\n",
    "validation_size = 0.20\n",
    "seed = 7\n",
    "X_train, X_validation, Y_train, Y_validation = train_test_split(X, Y,test_size=validation_size, random_state=seed)"
   ]
  },
  {
   "cell_type": "markdown",
   "metadata": {},
   "source": [
    "Test options and evaluation metric"
   ]
  },
  {
   "cell_type": "code",
   "execution_count": 84,
   "metadata": {},
   "outputs": [],
   "source": [
    "num_folds = 10\n",
    "seed = 7\n",
    "scoring = 'neg_mean_squared_error'"
   ]
  },
  {
   "cell_type": "markdown",
   "metadata": {},
   "source": [
    "pot-Check Algorithms"
   ]
  },
  {
   "cell_type": "code",
   "execution_count": 86,
   "metadata": {},
   "outputs": [],
   "source": [
    "models = []\n",
    "models.append(('LR', LinearRegression()))\n",
    "#models.append(('XGB', XGBRegressor()))\n",
    "models.append(('LASSO', Lasso()))\n",
    "models.append(('EN', ElasticNet()))\n",
    "models.append(('KNN', KNeighborsRegressor()))\n",
    "models.append(('CART', DecisionTreeRegressor()))\n",
    "models.append(('SVR', SVR()))"
   ]
  },
  {
   "cell_type": "markdown",
   "metadata": {},
   "source": [
    "evaluate each model in turn"
   ]
  },
  {
   "cell_type": "code",
   "execution_count": 87,
   "metadata": {},
   "outputs": [
    {
     "name": "stdout",
     "output_type": "stream",
     "text": [
      "LR: -31072.239511 (1852.629673)\n",
      "LASSO: -31285.757869 (1870.622633)\n",
      "EN: -35096.029784 (1803.987439)\n",
      "KNN: -36031.167127 (2925.050889)\n",
      "CART: -39448.375670 (3385.425985)\n",
      "SVR: -35749.786028 (2053.226773)\n"
     ]
    }
   ],
   "source": [
    "results = []\n",
    "names = []\n",
    "for name, model in models:\n",
    "    kfold = KFold(n_splits=num_folds, random_state=seed,shuffle=True)\n",
    "    cv_results = cross_val_score(model, X_train, Y_train, cv=kfold, scoring=scoring)\n",
    "    results.append(cv_results)\n",
    "    names.append(name)\n",
    "    msg = \"%s: %f (%f)\" % (name, cv_results.mean(), cv_results.std())\n",
    "    print(msg)"
   ]
  },
  {
   "cell_type": "markdown",
   "metadata": {},
   "source": [
    "lowest negtive MSE is for LR followed by LASSO"
   ]
  },
  {
   "cell_type": "markdown",
   "metadata": {},
   "source": [
    "R: -31072.127725 (1852.614533)<br>\n",
    "GB: -32960.497059 (2147.411868)<br>\n",
    "ASSO: -31285.753686 (1870.626560)<br>\n",
    "N: -35096.030674 (1803.986785)<br>\n",
    "NN: -35964.710138 (3502.354681)<br>\n",
    "ART: -39118.208803 (4076.907318)<br>\n",
    "VR: -33103.136033 (2038.209706)"
   ]
  },
  {
   "cell_type": "markdown",
   "metadata": {},
   "source": [
    "compare Algorithms"
   ]
  },
  {
   "cell_type": "code",
   "execution_count": 88,
   "metadata": {},
   "outputs": [
    {
     "data": {
      "image/png": "[encoded data removed]",
      "text/plain": [
       "<Figure size 432x288 with 1 Axes>"
      ]
     },
     "metadata": {
      "needs_background": "light"
     },
     "output_type": "display_data"
    }
   ],
   "source": [
    "fig = pyplot.figure()\n",
    "fig.suptitle('Algorithm Comparison')\n",
    "ax = fig.add_subplot(111)\n",
    "pyplot.boxplot(results)\n",
    "ax.set_xticklabels(names)\n",
    "pyplot.show()"
   ]
  },
  {
   "cell_type": "markdown",
   "metadata": {},
   "source": [
    "evaluate Algorithms: Standardization"
   ]
  },
  {
   "cell_type": "markdown",
   "metadata": {},
   "source": [
    "Standardize the dataset"
   ]
  },
  {
   "cell_type": "code",
   "execution_count": 89,
   "metadata": {},
   "outputs": [
    {
     "name": "stdout",
     "output_type": "stream",
     "text": [
      "ScaledLR: -31072.239511 (1852.629673)\n",
      "ScaledLASSO: -31056.987868 (1826.524910)\n",
      "ScaledEN: -31604.825300 (1711.391183)\n",
      "ScaledKNN: -35736.924897 (2235.011886)\n",
      "ScaledCART: -38934.900856 (3582.788238)\n",
      "ScaledSVR: -34017.776774 (2012.518859)\n"
     ]
    }
   ],
   "source": [
    "pipelines = []\n",
    "pipelines.append(('ScaledLR', Pipeline([('Scaler', StandardScaler()),('LR',LinearRegression())])))\n",
    "#pipelines.append(('ScaledLR', Pipeline([('Scaler', StandardScaler()),('XGB',XGBRegressor())])))\n",
    "pipelines.append(('ScaledLASSO', Pipeline([('Scaler', StandardScaler()),('LASSO', Lasso())])))\n",
    "pipelines.append(('ScaledEN', Pipeline([('Scaler', StandardScaler()),('EN', ElasticNet())])))\n",
    "pipelines.append(('ScaledKNN', Pipeline([('Scaler', StandardScaler()),('KNN', KNeighborsRegressor())])))\n",
    "pipelines.append(('ScaledCART', Pipeline([('Scaler', StandardScaler()),('CART', DecisionTreeRegressor())])))\n",
    "pipelines.append(('ScaledSVR', Pipeline([('Scaler', StandardScaler()),('SVR', SVR())])))\n",
    "results = []\n",
    "names = []\n",
    "for name, model in pipelines:\n",
    "    kfold = KFold(n_splits=num_folds, random_state=seed,shuffle=True)\n",
    "    cv_results = cross_val_score(model, X_train, Y_train, cv=kfold, scoring=scoring)\n",
    "    results.append(cv_results)\n",
    "    names.append(name)\n",
    "    msg = \"%s: %f (%f)\" % (name, cv_results.mean(), cv_results.std())\n",
    "    print(msg)"
   ]
  },
  {
   "cell_type": "markdown",
   "metadata": {},
   "source": [
    "After Scaling below output gives lowest MSE for LR, LASSO and EN<br>\n",
    "caledLR: -31073.285058 (1852.428878)<br>\n",
    "caledLR: -33000.053603 (2380.501922)<br>\n",
    "caledLASSO: -31057.987851 (1826.336022)<br>\n",
    "caledEN: -31605.583914 (1711.448216)<br>\n",
    "caledKNN: -35694.351220 (2920.487089)<br>\n",
    "caledCART: -38696.891647 (4262.623551)<br>\n",
    "caledSVR: -34017.125788 (2013.529279)"
   ]
  },
  {
   "cell_type": "markdown",
   "metadata": {},
   "source": [
    "Compare Algorithms"
   ]
  },
  {
   "cell_type": "code",
   "execution_count": 90,
   "metadata": {},
   "outputs": [
    {
     "data": {
      "image/png": "[encoded data removed]",
      "text/plain": [
       "<Figure size 432x288 with 1 Axes>"
      ]
     },
     "metadata": {
      "needs_background": "light"
     },
     "output_type": "display_data"
    }
   ],
   "source": [
    "fig = pyplot.figure()\n",
    "fig.suptitle('Scaled Algorithm Comparison')\n",
    "ax = fig.add_subplot(111)\n",
    "pyplot.boxplot(results)\n",
    "ax.set_xticklabels(names)\n",
    "pyplot.show()"
   ]
  },
  {
   "cell_type": "markdown",
   "metadata": {},
   "source": [
    "Algorithm tuning"
   ]
  },
  {
   "cell_type": "code",
   "execution_count": 91,
   "metadata": {},
   "outputs": [
    {
     "name": "stdout",
     "output_type": "stream",
     "text": [
      "Best: -31056.698232 using {'alpha': 1.0}\n",
      "Best Estimator 1.0\n",
      "mean, Standard Deviation and params -31056.698232 (1826.741424) with: {'alpha': 1.0}\n",
      "mean, Standard Deviation and params -31069.393577 (1849.550955) with: {'alpha': 0.1}\n",
      "mean, Standard Deviation and params -31071.660203 (1852.567465) with: {'alpha': 0.01}\n",
      "mean, Standard Deviation and params -31071.881064 (1852.907767) with: {'alpha': 0.001}\n",
      "mean, Standard Deviation and params -31071.903478 (1852.941711) with: {'alpha': 0.0001}\n",
      "mean, Standard Deviation and params -31071.905955 (1852.945485) with: {'alpha': 0.0}\n"
     ]
    }
   ],
   "source": [
    "scaler = StandardScaler().fit(X_train)\n",
    "rescaledX = scaler.transform(X_train)\n",
    "k_values = np.array([1,0.1,0.01,0.001,0.0001,0])\n",
    "param_grid = dict(alpha=k_values)\n",
    "model = Lasso()\n",
    "kfold = KFold(n_splits=num_folds, random_state=seed,shuffle=True)\n",
    "grid = GridSearchCV(estimator=model, param_grid=param_grid, scoring=scoring, cv=kfold)\n",
    "grid_result = grid.fit(rescaledX, Y_train)\n",
    "print(\"Best: %f using %s\" % (grid_result.best_score_, grid_result.best_params_))\n",
    "print(\"Best Estimator\",grid.best_estimator_.alpha)\n",
    "means = grid_result.cv_results_['mean_test_score']\n",
    "stds = grid_result.cv_results_['std_test_score']\n",
    "params = grid_result.cv_results_['params']\n",
    "for mean, stdev, param in zip(means, stds, params):\n",
    "    print(\"mean, Standard Deviation and params %f (%f) with: %r\" % (mean, stdev, param))"
   ]
  },
  {
   "cell_type": "markdown",
   "metadata": {},
   "source": [
    "valuate four different ensemble machine learning<br>\n",
    "lgorithms, two boosting and two bagging methods:<br>\n",
    " Boosting Methods: AdaBoost (AB) and Gradient Boosting (GBM).<br>\n",
    " Bagging Methods: Random Forests (RF) and Extra Trees (ET)."
   ]
  },
  {
   "cell_type": "markdown",
   "metadata": {},
   "source": [
    "ensembles"
   ]
  },
  {
   "cell_type": "code",
   "execution_count": 92,
   "metadata": {},
   "outputs": [],
   "source": [
    "ensembles = []\n",
    "ensembles.append(('ScaledAB', Pipeline([('Scaler', StandardScaler()),('AB',AdaBoostRegressor())])))\n",
    "ensembles.append(('ScaledGBM', Pipeline([('Scaler', StandardScaler()),('GBM', GradientBoostingRegressor())])))\n",
    "ensembles.append(('ScaledRF', Pipeline([('Scaler', StandardScaler()),('RF', RandomForestRegressor())])))\n",
    "ensembles.append(('ScaledET', Pipeline([('Scaler', StandardScaler()),('ET', ExtraTreesRegressor())])))"
   ]
  },
  {
   "cell_type": "code",
   "execution_count": 93,
   "metadata": {},
   "outputs": [
    {
     "name": "stdout",
     "output_type": "stream",
     "text": [
      "ScaledAB: -32081.141499 (2016.990229)\n",
      "ScaledGBM: -30393.895285 (2075.010404)\n",
      "ScaledRF: -32440.922297 (2407.657547)\n",
      "ScaledET: -33280.614516 (2462.702255)\n"
     ]
    }
   ],
   "source": [
    "results = []\n",
    "names = []\n",
    "for name, model in ensembles:\n",
    "    kfold = KFold(n_splits=num_folds, random_state=seed,shuffle=True)\n",
    "    cv_results = cross_val_score(model, X_train, Y_train, cv=kfold, scoring=scoring)\n",
    "    results.append(cv_results)\n",
    "    names.append(name)\n",
    "    msg = \"%s: %f (%f)\" % (name, cv_results.mean(), cv_results.std())\n",
    "    print(msg)"
   ]
  },
  {
   "cell_type": "markdown",
   "metadata": {},
   "source": [
    "Output is best for GBM<br>\n",
    "caledAB: -32203.544297 (2290.880793)<br>\n",
    "caledGBM: -30424.137942 (2154.809940)<br>\n",
    "caledRF: -31673.784577 (2543.114782)<br>\n",
    "caledET: -32788.928779 (2697.184527)"
   ]
  },
  {
   "cell_type": "markdown",
   "metadata": {},
   "source": [
    "Compare Algorithms"
   ]
  },
  {
   "cell_type": "code",
   "execution_count": 94,
   "metadata": {},
   "outputs": [
    {
     "data": {
      "image/png": "[encoded data removed]",
      "text/plain": [
       "<Figure size 432x288 with 1 Axes>"
      ]
     },
     "metadata": {
      "needs_background": "light"
     },
     "output_type": "display_data"
    }
   ],
   "source": [
    "fig = pyplot.figure()\n",
    "fig.suptitle('Scaled Ensemble Algorithm Comparison')\n",
    "ax = fig.add_subplot(111)\n",
    "pyplot.boxplot(results)\n",
    "ax.set_xticklabels(names)\n",
    "pyplot.show()"
   ]
  },
  {
   "cell_type": "markdown",
   "metadata": {},
   "source": [
    "Tune Ensemble Methods<br>\n",
    "GBM<br>\n",
    "Tune scaled GBM"
   ]
  },
  {
   "cell_type": "code",
   "execution_count": 95,
   "metadata": {},
   "outputs": [
    {
     "name": "stdout",
     "output_type": "stream",
     "text": [
      "Best: -30224.356023 using {'n_estimators': 50}\n",
      "-30224.356023 (2020.899576) with: {'n_estimators': 50}\n",
      "-30402.584776 (2092.277753) with: {'n_estimators': 100}\n",
      "-30656.068286 (2180.560974) with: {'n_estimators': 150}\n",
      "-30900.579100 (2156.448928) with: {'n_estimators': 200}\n",
      "-31111.588490 (2188.667017) with: {'n_estimators': 250}\n",
      "-31233.858589 (2224.603091) with: {'n_estimators': 300}\n",
      "-31415.063085 (2158.028154) with: {'n_estimators': 350}\n",
      "-31597.953315 (2127.867849) with: {'n_estimators': 400}\n"
     ]
    }
   ],
   "source": [
    "scaler = StandardScaler().fit(X_train)\n",
    "rescaledX = scaler.transform(X_train)\n",
    "param_grid = dict(n_estimators=np.array([50,100,150,200,250,300,350,400]))\n",
    "model = GradientBoostingRegressor(random_state=seed)\n",
    "kfold = KFold(n_splits=num_folds, random_state=seed,shuffle=True)\n",
    "grid = GridSearchCV(estimator=model, param_grid=param_grid, scoring=scoring, cv=kfold)\n",
    "grid_result = grid.fit(rescaledX, Y_train)\n",
    "print(\"Best: %f using %s\" % (grid_result.best_score_, grid_result.best_params_))\n",
    "means = grid_result.cv_results_['mean_test_score']\n",
    "stds = grid_result.cv_results_['std_test_score']\n",
    "params = grid_result.cv_results_['params']\n",
    "for mean, stdev, param in zip(means, stds, params):\n",
    "    print(\"%f (%f) with: %r\" % (mean, stdev, param))"
   ]
  },
  {
   "cell_type": "markdown",
   "metadata": {},
   "source": [
    "##Finalize the Model<br>\n",
    " prepare the model"
   ]
  },
  {
   "cell_type": "code",
   "execution_count": 96,
   "metadata": {},
   "outputs": [
    {
     "data": {
      "text/plain": [
       "GradientBoostingRegressor(alpha=0.9, criterion='friedman_mse', init=None,\n",
       "                          learning_rate=0.1, loss='ls', max_depth=3,\n",
       "                          max_features=None, max_leaf_nodes=None,\n",
       "                          min_impurity_decrease=0.0, min_impurity_split=None,\n",
       "                          min_samples_leaf=1, min_samples_split=2,\n",
       "                          min_weight_fraction_leaf=0.0, n_estimators=400,\n",
       "                          n_iter_no_change=None, presort='auto', random_state=7,\n",
       "                          subsample=1.0, tol=0.0001, validation_fraction=0.1,\n",
       "                          verbose=0, warm_start=False)"
      ]
     },
     "execution_count": 96,
     "metadata": {},
     "output_type": "execute_result"
    }
   ],
   "source": [
    "scaler = StandardScaler().fit(X_train)\n",
    "rescaledX = scaler.transform(X_train)\n",
    "model = GradientBoostingRegressor(random_state=seed, n_estimators=400)\n",
    "model.fit(rescaledX, Y_train)"
   ]
  },
  {
   "cell_type": "markdown",
   "metadata": {},
   "source": [
    "transform the validation dataset"
   ]
  },
  {
   "cell_type": "code",
   "execution_count": 100,
   "metadata": {},
   "outputs": [
    {
     "name": "stdout",
     "output_type": "stream",
     "text": [
      "32436.865432135273\n"
     ]
    }
   ],
   "source": [
    "rescaledValidationX = scaler.transform(X_validation)\n",
    "predictions = model.predict(rescaledValidationX)\n",
    "print(mean_squared_error(Y_validation, predictions))"
   ]
  },
  {
   "cell_type": "markdown",
   "metadata": {},
   "source": [
    "final test data"
   ]
  },
  {
   "cell_type": "code",
   "execution_count": 101,
   "metadata": {},
   "outputs": [
    {
     "name": "stdout",
     "output_type": "stream",
     "text": [
      "[331.10650502 265.67707307 350.94251545 ... 322.71807337 412.89835871\n",
      " 418.53895974]\n"
     ]
    }
   ],
   "source": [
    "final_df=test_df.values\n",
    "Y_final=final_df[:,8:29]\n",
    "final_prediction=model.predict(Y_final)\n",
    "print(final_prediction)\n",
    "final_prediction_res=pd.DataFrame(final_prediction,columns=['Fees']).round(decimals=0)\n",
    "final_prediction_res.to_excel(\"Final_Submission.xlsx\",index=False)"
   ]
  },
  {
   "cell_type": "code",
   "execution_count": null,
   "metadata": {},
   "outputs": [],
   "source": []
  }
 ],
 "metadata": {
  "kernelspec": {
   "display_name": "Python 3",
   "language": "python",
   "name": "python3"
  },
  "language_info": {
   "codemirror_mode": {
    "name": "ipython",
    "version": 3
   },
   "file_extension": ".py",
   "mimetype": "text/x-python",
   "name": "python",
   "nbconvert_exporter": "python",
   "pygments_lexer": "ipython3",
   "version": "3.7.4"
  }
 },
 "nbformat": 4,
 "nbformat_minor": 2
}
